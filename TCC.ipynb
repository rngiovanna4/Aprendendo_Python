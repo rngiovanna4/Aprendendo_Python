{
  "nbformat": 4,
  "nbformat_minor": 0,
  "metadata": {
    "colab": {
      "provenance": [],
      "authorship_tag": "ABX9TyNS5bmNOVSipoBr3F8q3WJA",
      "include_colab_link": true
    },
    "kernelspec": {
      "name": "python3",
      "display_name": "Python 3"
    },
    "language_info": {
      "name": "python"
    }
  },
  "cells": [
    {
      "cell_type": "markdown",
      "metadata": {
        "id": "view-in-github",
        "colab_type": "text"
      },
      "source": [
        "<a href=\"https://colab.research.google.com/github/rngiovanna4/Aprendendo_Python/blob/main/TCC.ipynb\" target=\"_parent\"><img src=\"https://colab.research.google.com/assets/colab-badge.svg\" alt=\"Open In Colab\"/></a>"
      ]
    },
    {
      "cell_type": "code",
      "execution_count": null,
      "metadata": {
        "id": "fzF7l4N7cKMi"
      },
      "outputs": [],
      "source": [
        "Arquivo de código criado para realização de testes"
      ]
    },
    {
      "cell_type": "code",
      "source": [
        "import pandas as pd\n",
        "from sklearn.tree import DecisionTreeClassifier #A técnica\n",
        "from sklearn.model_selection import train_test_split #Função para dividir em traino e teste\n",
        "from sklearn import metrics #Desse import vem as metricas para validar os resultados"
      ],
      "metadata": {
        "id": "N6XXYZtNcVKv"
      },
      "execution_count": 2,
      "outputs": []
    },
    {
      "cell_type": "markdown",
      "source": [],
      "metadata": {
        "id": "aqiig6_pcOYR"
      }
    }
  ]
}